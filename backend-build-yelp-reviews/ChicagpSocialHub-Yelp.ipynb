version https://git-lfs.github.com/spec/v1
oid sha256:4c276dd344cf25704fe72e89afeb018ef9906942534d011be8c431b30d8ee466
size 19578264
